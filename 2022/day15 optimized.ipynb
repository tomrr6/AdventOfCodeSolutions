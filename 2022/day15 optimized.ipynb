{
 "cells": [
  {
   "attachments": {},
   "cell_type": "markdown",
   "metadata": {},
   "source": [
    "test input"
   ]
  },
  {
   "cell_type": "code",
   "execution_count": 4,
   "metadata": {},
   "outputs": [],
   "source": [
    "input = '''Sensor at x=2, y=18: closest beacon is at x=-2, y=15\n",
    "Sensor at x=9, y=16: closest beacon is at x=10, y=16\n",
    "Sensor at x=13, y=2: closest beacon is at x=15, y=3\n",
    "Sensor at x=12, y=14: closest beacon is at x=10, y=16\n",
    "Sensor at x=10, y=20: closest beacon is at x=10, y=16\n",
    "Sensor at x=14, y=17: closest beacon is at x=10, y=16\n",
    "Sensor at x=8, y=7: closest beacon is at x=2, y=10\n",
    "Sensor at x=2, y=0: closest beacon is at x=2, y=10\n",
    "Sensor at x=0, y=11: closest beacon is at x=2, y=10\n",
    "Sensor at x=20, y=14: closest beacon is at x=25, y=17\n",
    "Sensor at x=17, y=20: closest beacon is at x=21, y=22\n",
    "Sensor at x=16, y=7: closest beacon is at x=15, y=3\n",
    "Sensor at x=14, y=3: closest beacon is at x=15, y=3\n",
    "Sensor at x=20, y=1: closest beacon is at x=15, y=3'''"
   ]
  },
  {
   "attachments": {},
   "cell_type": "markdown",
   "metadata": {},
   "source": [
    "real input"
   ]
  },
  {
   "cell_type": "code",
   "execution_count": 9,
   "metadata": {},
   "outputs": [],
   "source": [
    "input = '''Sensor at x=2793338, y=1910659: closest beacon is at x=2504930, y=2301197\n",
    "Sensor at x=2887961, y=129550: closest beacon is at x=2745008, y=-872454\n",
    "Sensor at x=3887055, y=2785942: closest beacon is at x=4322327, y=2605441\n",
    "Sensor at x=3957399, y=2164042: closest beacon is at x=3651713, y=1889668\n",
    "Sensor at x=1268095, y=1265989: closest beacon is at x=1144814, y=2000000\n",
    "Sensor at x=2093967, y=2103436: closest beacon is at x=2504930, y=2301197\n",
    "Sensor at x=2980126, y=1348046: closest beacon is at x=3651713, y=1889668\n",
    "Sensor at x=508134, y=3998686: closest beacon is at x=1123963, y=4608563\n",
    "Sensor at x=2982740, y=3604350: closest beacon is at x=2756683, y=3240616\n",
    "Sensor at x=2372671, y=3929034: closest beacon is at x=2756683, y=3240616\n",
    "Sensor at x=437628, y=1124644: closest beacon is at x=570063, y=959065\n",
    "Sensor at x=3271179, y=3268845: closest beacon is at x=3444757, y=3373782\n",
    "Sensor at x=1899932, y=730465: closest beacon is at x=570063, y=959065\n",
    "Sensor at x=1390358, y=3881569: closest beacon is at x=1123963, y=4608563\n",
    "Sensor at x=554365, y=989190: closest beacon is at x=570063, y=959065\n",
    "Sensor at x=2225893, y=2703661: closest beacon is at x=2504930, y=2301197\n",
    "Sensor at x=3755905, y=1346206: closest beacon is at x=3651713, y=1889668\n",
    "Sensor at x=3967103, y=3930797: closest beacon is at x=3444757, y=3373782\n",
    "Sensor at x=3534099, y=2371166: closest beacon is at x=3651713, y=1889668\n",
    "Sensor at x=3420789, y=1720583: closest beacon is at x=3651713, y=1889668\n",
    "Sensor at x=2222479, y=3278186: closest beacon is at x=2756683, y=3240616\n",
    "Sensor at x=100457, y=871319: closest beacon is at x=570063, y=959065\n",
    "Sensor at x=1330699, y=2091946: closest beacon is at x=1144814, y=2000000\n",
    "Sensor at x=598586, y=99571: closest beacon is at x=570063, y=959065\n",
    "Sensor at x=3436099, y=3392932: closest beacon is at x=3444757, y=3373782\n",
    "Sensor at x=3338431, y=3346334: closest beacon is at x=3444757, y=3373782\n",
    "Sensor at x=3892283, y=688090: closest beacon is at x=3651713, y=1889668\n",
    "Sensor at x=1485577, y=1929020: closest beacon is at x=1144814, y=2000000\n",
    "Sensor at x=2991003, y=2951060: closest beacon is at x=2756683, y=3240616\n",
    "Sensor at x=2855486, y=2533468: closest beacon is at x=2504930, y=2301197\n",
    "Sensor at x=750865, y=1619637: closest beacon is at x=1144814, y=2000000\n",
    "Sensor at x=3378101, y=3402212: closest beacon is at x=3444757, y=3373782\n",
    "Sensor at x=3515528, y=2950404: closest beacon is at x=3444757, y=3373782\n",
    "Sensor at x=163133, y=2640553: closest beacon is at x=-1016402, y=3057364\n",
    "Sensor at x=1765550, y=3021994: closest beacon is at x=2756683, y=3240616\n",
    "Sensor at x=534625, y=1056421: closest beacon is at x=570063, y=959065\n",
    "Sensor at x=3418549, y=3380980: closest beacon is at x=3444757, y=3373782\n",
    "Sensor at x=29, y=389033: closest beacon is at x=570063, y=959065'''"
   ]
  },
  {
   "attachments": {},
   "cell_type": "markdown",
   "metadata": {},
   "source": [
    "input processing"
   ]
  },
  {
   "cell_type": "code",
   "execution_count": 5,
   "metadata": {},
   "outputs": [],
   "source": [
    "class Sensor:\n",
    "    def __init__(self, xLocation, yLocation, closestBeaconX, closestBeaconY):\n",
    "        self.xLocation: int = xLocation\n",
    "        self.yLocation: int = yLocation\n",
    "        self.closestBeaconX: int = closestBeaconX\n",
    "        self.closestBeaconY: int = closestBeaconY\n",
    "        # determine Manhattan Distance to beacon\n",
    "        horizontalDistanceToBeacon: int = abs(xLocation - closestBeaconX)\n",
    "        verticalDistanceToBeacon: int = abs(yLocation - closestBeaconY)\n",
    "        self.distanceToBeacon: int = horizontalDistanceToBeacon + verticalDistanceToBeacon\n",
    "\n",
    "    def __str__(self) -> str:\n",
    "        return f\"x{self.xLocation} y{self.yLocation} | distanceToBeacon{self.distanceToBeacon}\""
   ]
  },
  {
   "cell_type": "code",
   "execution_count": 10,
   "metadata": {},
   "outputs": [
    {
     "name": "stdout",
     "output_type": "stream",
     "text": [
      "x2793338 y1910659 | distanceToBeacon678946\n",
      "x2887961 y129550 | distanceToBeacon1144957\n",
      "x3887055 y2785942 | distanceToBeacon615773\n",
      "x3957399 y2164042 | distanceToBeacon580060\n",
      "x1268095 y1265989 | distanceToBeacon857292\n",
      "x2093967 y2103436 | distanceToBeacon608724\n",
      "x2980126 y1348046 | distanceToBeacon1213209\n",
      "x508134 y3998686 | distanceToBeacon1225706\n",
      "x2982740 y3604350 | distanceToBeacon589791\n",
      "x2372671 y3929034 | distanceToBeacon1072430\n",
      "x437628 y1124644 | distanceToBeacon298014\n",
      "x3271179 y3268845 | distanceToBeacon278515\n",
      "x1899932 y730465 | distanceToBeacon1558469\n",
      "x1390358 y3881569 | distanceToBeacon993389\n",
      "x554365 y989190 | distanceToBeacon45823\n",
      "x2225893 y2703661 | distanceToBeacon681501\n",
      "x3755905 y1346206 | distanceToBeacon647654\n",
      "x3967103 y3930797 | distanceToBeacon1079361\n",
      "x3534099 y2371166 | distanceToBeacon599112\n",
      "x3420789 y1720583 | distanceToBeacon400009\n",
      "x2222479 y3278186 | distanceToBeacon571774\n",
      "x100457 y871319 | distanceToBeacon557352\n",
      "x1330699 y2091946 | distanceToBeacon277831\n",
      "x598586 y99571 | distanceToBeacon888017\n",
      "x3436099 y3392932 | distanceToBeacon27808\n",
      "x3338431 y3346334 | distanceToBeacon133774\n",
      "x3892283 y688090 | distanceToBeacon1442148\n",
      "x1485577 y1929020 | distanceToBeacon411743\n",
      "x2991003 y2951060 | distanceToBeacon523876\n",
      "x2855486 y2533468 | distanceToBeacon582827\n",
      "x750865 y1619637 | distanceToBeacon774312\n",
      "x3378101 y3402212 | distanceToBeacon95086\n",
      "x3515528 y2950404 | distanceToBeacon494149\n",
      "x163133 y2640553 | distanceToBeacon1596346\n",
      "x1765550 y3021994 | distanceToBeacon1209755\n",
      "x534625 y1056421 | distanceToBeacon132794\n",
      "x3418549 y3380980 | distanceToBeacon33406\n",
      "x29 y389033 | distanceToBeacon1140066\n"
     ]
    }
   ],
   "source": [
    "sensorInputStrings = input.splitlines()\n",
    "sensorInputStrings = [i.split(\":\") for i in sensorInputStrings]\n",
    "sensors: list[Sensor] = []\n",
    "for sensorInput in sensorInputStrings:\n",
    "    sensorLocationString = sensorInput[0].split()\n",
    "    sensorLocationX = int(sensorLocationString[2].replace(\"x\", \"\", 1).replace(\"=\", \"\", 1).replace(\",\", \"\", 1))\n",
    "    sensorLocationY = int(sensorLocationString[3].replace(\"y\", \"\", 1).replace(\"=\", \"\", 1).replace(\",\", \"\", 1))\n",
    "    \n",
    "    closestBeaconLocationString = sensorInput[1].split()\n",
    "    beaconLocationX = int(closestBeaconLocationString[4].replace(\"x\", \"\", 1).replace(\"=\", \"\", 1).replace(\",\", \"\", 1))\n",
    "    beaconLocationY = int(closestBeaconLocationString[5].replace(\"y\", \"\", 1).replace(\"=\", \"\", 1).replace(\",\", \"\", 1))\n",
    "\n",
    "    sensors.append(Sensor(sensorLocationX, sensorLocationY, beaconLocationX, beaconLocationY))\n",
    "for sensor in sensors:\n",
    "    print(str(sensor))"
   ]
  },
  {
   "attachments": {},
   "cell_type": "markdown",
   "metadata": {},
   "source": [
    "Make Map"
   ]
  },
  {
   "cell_type": "code",
   "execution_count": null,
   "metadata": {},
   "outputs": [],
   "source": [
    "def displayChart():\n",
    "    global chart\n",
    "    global xOffset\n",
    "    global yOffset\n",
    "    outputStr = \"\"\n",
    "    for y, row in enumerate(chart):\n",
    "        # outputStr += str(y-yOffset)\n",
    "        for x, point in enumerate(row):\n",
    "            if point == 1:\n",
    "                outputStr += \"S\"\n",
    "            elif point == 2:\n",
    "                outputStr += \"B\"\n",
    "            elif point == 3:\n",
    "                outputStr += \"#\"\n",
    "            elif point == 0:\n",
    "                if y == yOffset:\n",
    "                    outputStr += \"-\"\n",
    "                elif x == xOffset:\n",
    "                    outputStr += \"|\"\n",
    "                elif y < yOffset or x < xOffset:\n",
    "                    outputStr += \".\"\n",
    "                else:\n",
    "                    outputStr += \".\"\n",
    "            else:\n",
    "                outputStr += \"?\"\n",
    "        if y == 10+yOffset or y == 2000000+yOffset:\n",
    "            outputStr += \"!!!!\"\n",
    "        outputStr += \"\\n\"\n",
    "    print(outputStr)"
   ]
  },
  {
   "cell_type": "code",
   "execution_count": null,
   "metadata": {},
   "outputs": [],
   "source": [
    "displayChart()"
   ]
  },
  {
   "cell_type": "code",
   "execution_count": 22,
   "metadata": {},
   "outputs": [
    {
     "name": "stdout",
     "output_type": "stream",
     "text": [
      "5166078\n"
     ]
    }
   ],
   "source": [
    "chart = set()\n",
    "# rowToCheck = 10\n",
    "rowToCheck = 2000000\n",
    "beaconsInCheckedRow = set()\n",
    "\n",
    "for sensor in sensors:\n",
    "    # if sensor.closestBeaconY == rowToCheck:\n",
    "    #     beaconsInCheckedRow.add(sensor.closestBeaconX)\n",
    "    # verticalRange = range(sensor.yLocation-sensor.distanceToBeacon, sensor.yLocation+sensor.distanceToBeacon+1)\n",
    "    # for y in verticalRange:\n",
    "    #     if y == rowToCheck:\n",
    "    if abs(rowToCheck - sensor.yLocation) <= sensor.distanceToBeacon:\n",
    "        horizontalDiminish = abs(rowToCheck - sensor.yLocation)\n",
    "        horizontalRange = range(sensor.xLocation-sensor.distanceToBeacon+horizontalDiminish, sensor.xLocation+sensor.distanceToBeacon-horizontalDiminish+1)\n",
    "        chart.add(horizontalRange)\n",
    "\n",
    "# for sensor in sensors:\n",
    "#     addPointToChart(sensor.xLocation, sensor.yLocation, 1)\n",
    "#     addPointToChart(sensor.closestBeaconX, sensor.closestBeaconY, 2)\n",
    "\n",
    "\n",
    "\n",
    "spotThatCannotHaveABeacon = set()\n",
    "for rangeToTest in chart:\n",
    "    for value in rangeToTest:\n",
    "        spotThatCannotHaveABeacon.add(value)\n",
    "\n",
    "print(len(spotThatCannotHaveABeacon) - len(beaconsInCheckedRow))\n",
    "# print(len(noSensorLocationsOnCheckedRow))"
   ]
  },
  {
   "cell_type": "code",
   "execution_count": 16,
   "metadata": {},
   "outputs": [
    {
     "name": "stdout",
     "output_type": "stream",
     "text": [
      "5166077\n"
     ]
    }
   ],
   "source": [
    "chart = []\n",
    "# rowToCheck = 10\n",
    "rowToCheck = 2000000\n",
    "beaconsInCheckedRow = set()\n",
    "\n",
    "for sensor in sensors:\n",
    "    if sensor.closestBeaconY == rowToCheck:\n",
    "        beaconsInCheckedRow.add(sensor.closestBeaconX)\n",
    "    verticalRange = range(sensor.yLocation-sensor.distanceToBeacon, sensor.yLocation+sensor.distanceToBeacon+1)\n",
    "    for y in verticalRange:\n",
    "        if y == rowToCheck:\n",
    "            horizontalDiminish = abs(y - sensor.yLocation)\n",
    "            horizontalRange = range(sensor.xLocation-sensor.distanceToBeacon+horizontalDiminish, sensor.xLocation+sensor.distanceToBeacon-horizontalDiminish+1)\n",
    "            chart.append(horizontalRange)\n",
    "\n",
    "# for sensor in sensors:\n",
    "#     addPointToChart(sensor.xLocation, sensor.yLocation, 1)\n",
    "#     addPointToChart(sensor.closestBeaconX, sensor.closestBeaconY, 2)\n",
    "\n",
    "\n",
    "\n",
    "spotThatCannotHaveABeacon = set()\n",
    "for rangeToTest in chart:\n",
    "    for value in rangeToTest:\n",
    "        spotThatCannotHaveABeacon.add(value)\n",
    "\n",
    "print(len(spotThatCannotHaveABeacon) - len(beaconsInCheckedRow))"
   ]
  },
  {
   "attachments": {},
   "cell_type": "markdown",
   "metadata": {},
   "source": [
    "tests"
   ]
  },
  {
   "cell_type": "code",
   "execution_count": null,
   "metadata": {},
   "outputs": [],
   "source": [
    "print(chart)"
   ]
  },
  {
   "cell_type": "code",
   "execution_count": null,
   "metadata": {},
   "outputs": [],
   "source": [
    "print(len(range(6,6)))"
   ]
  }
 ],
 "metadata": {
  "kernelspec": {
   "display_name": "Python 3",
   "language": "python",
   "name": "python3"
  },
  "language_info": {
   "codemirror_mode": {
    "name": "ipython",
    "version": 3
   },
   "file_extension": ".py",
   "mimetype": "text/x-python",
   "name": "python",
   "nbconvert_exporter": "python",
   "pygments_lexer": "ipython3",
   "version": "3.10.5"
  },
  "orig_nbformat": 4,
  "vscode": {
   "interpreter": {
    "hash": "369f2c481f4da34e4445cda3fffd2e751bd1c4d706f27375911949ba6bb62e1c"
   }
  }
 },
 "nbformat": 4,
 "nbformat_minor": 2
}
