{
 "cells": [
  {
   "attachments": {},
   "cell_type": "markdown",
   "metadata": {},
   "source": [
    "test input"
   ]
  },
  {
   "cell_type": "code",
   "execution_count": 211,
   "metadata": {},
   "outputs": [],
   "source": [
    "input = '''Sensor at x=2, y=18: closest beacon is at x=-2, y=15\n",
    "Sensor at x=9, y=16: closest beacon is at x=10, y=16\n",
    "Sensor at x=13, y=2: closest beacon is at x=15, y=3\n",
    "Sensor at x=12, y=14: closest beacon is at x=10, y=16\n",
    "Sensor at x=10, y=20: closest beacon is at x=10, y=16\n",
    "Sensor at x=14, y=17: closest beacon is at x=10, y=16\n",
    "Sensor at x=8, y=7: closest beacon is at x=2, y=10\n",
    "Sensor at x=2, y=0: closest beacon is at x=2, y=10\n",
    "Sensor at x=0, y=11: closest beacon is at x=2, y=10\n",
    "Sensor at x=20, y=14: closest beacon is at x=25, y=17\n",
    "Sensor at x=17, y=20: closest beacon is at x=21, y=22\n",
    "Sensor at x=16, y=7: closest beacon is at x=15, y=3\n",
    "Sensor at x=14, y=3: closest beacon is at x=15, y=3\n",
    "Sensor at x=20, y=1: closest beacon is at x=15, y=3'''"
   ]
  },
  {
   "attachments": {},
   "cell_type": "markdown",
   "metadata": {},
   "source": [
    "real input"
   ]
  },
  {
   "cell_type": "code",
   "execution_count": 198,
   "metadata": {},
   "outputs": [],
   "source": [
    "input = '''Sensor at x=2793338, y=1910659: closest beacon is at x=2504930, y=2301197\n",
    "Sensor at x=2887961, y=129550: closest beacon is at x=2745008, y=-872454\n",
    "Sensor at x=3887055, y=2785942: closest beacon is at x=4322327, y=2605441\n",
    "Sensor at x=3957399, y=2164042: closest beacon is at x=3651713, y=1889668\n",
    "Sensor at x=1268095, y=1265989: closest beacon is at x=1144814, y=2000000\n",
    "Sensor at x=2093967, y=2103436: closest beacon is at x=2504930, y=2301197\n",
    "Sensor at x=2980126, y=1348046: closest beacon is at x=3651713, y=1889668\n",
    "Sensor at x=508134, y=3998686: closest beacon is at x=1123963, y=4608563\n",
    "Sensor at x=2982740, y=3604350: closest beacon is at x=2756683, y=3240616\n",
    "Sensor at x=2372671, y=3929034: closest beacon is at x=2756683, y=3240616\n",
    "Sensor at x=437628, y=1124644: closest beacon is at x=570063, y=959065\n",
    "Sensor at x=3271179, y=3268845: closest beacon is at x=3444757, y=3373782\n",
    "Sensor at x=1899932, y=730465: closest beacon is at x=570063, y=959065\n",
    "Sensor at x=1390358, y=3881569: closest beacon is at x=1123963, y=4608563\n",
    "Sensor at x=554365, y=989190: closest beacon is at x=570063, y=959065\n",
    "Sensor at x=2225893, y=2703661: closest beacon is at x=2504930, y=2301197\n",
    "Sensor at x=3755905, y=1346206: closest beacon is at x=3651713, y=1889668\n",
    "Sensor at x=3967103, y=3930797: closest beacon is at x=3444757, y=3373782\n",
    "Sensor at x=3534099, y=2371166: closest beacon is at x=3651713, y=1889668\n",
    "Sensor at x=3420789, y=1720583: closest beacon is at x=3651713, y=1889668\n",
    "Sensor at x=2222479, y=3278186: closest beacon is at x=2756683, y=3240616\n",
    "Sensor at x=100457, y=871319: closest beacon is at x=570063, y=959065\n",
    "Sensor at x=1330699, y=2091946: closest beacon is at x=1144814, y=2000000\n",
    "Sensor at x=598586, y=99571: closest beacon is at x=570063, y=959065\n",
    "Sensor at x=3436099, y=3392932: closest beacon is at x=3444757, y=3373782\n",
    "Sensor at x=3338431, y=3346334: closest beacon is at x=3444757, y=3373782\n",
    "Sensor at x=3892283, y=688090: closest beacon is at x=3651713, y=1889668\n",
    "Sensor at x=1485577, y=1929020: closest beacon is at x=1144814, y=2000000\n",
    "Sensor at x=2991003, y=2951060: closest beacon is at x=2756683, y=3240616\n",
    "Sensor at x=2855486, y=2533468: closest beacon is at x=2504930, y=2301197\n",
    "Sensor at x=750865, y=1619637: closest beacon is at x=1144814, y=2000000\n",
    "Sensor at x=3378101, y=3402212: closest beacon is at x=3444757, y=3373782\n",
    "Sensor at x=3515528, y=2950404: closest beacon is at x=3444757, y=3373782\n",
    "Sensor at x=163133, y=2640553: closest beacon is at x=-1016402, y=3057364\n",
    "Sensor at x=1765550, y=3021994: closest beacon is at x=2756683, y=3240616\n",
    "Sensor at x=534625, y=1056421: closest beacon is at x=570063, y=959065\n",
    "Sensor at x=3418549, y=3380980: closest beacon is at x=3444757, y=3373782\n",
    "Sensor at x=29, y=389033: closest beacon is at x=570063, y=959065'''"
   ]
  },
  {
   "attachments": {},
   "cell_type": "markdown",
   "metadata": {},
   "source": [
    "input processing"
   ]
  },
  {
   "cell_type": "code",
   "execution_count": 212,
   "metadata": {},
   "outputs": [],
   "source": [
    "class Sensor:\n",
    "    def __init__(self, xLocation, yLocation, closestBeaconX, closestBeaconY):\n",
    "        self.xLocation: int = xLocation\n",
    "        self.yLocation: int = yLocation\n",
    "        self.closestBeaconX: int = closestBeaconX\n",
    "        self.closestBeaconY: int = closestBeaconY\n",
    "        # determine Manhattan Distance to beacon\n",
    "        horizontalDistanceToBeacon: int = abs(xLocation - closestBeaconX)\n",
    "        verticalDistanceToBeacon: int = abs(yLocation - closestBeaconY)\n",
    "        self.distanceToBeacon: int = horizontalDistanceToBeacon + verticalDistanceToBeacon\n",
    "\n",
    "    def __str__(self) -> str:\n",
    "        return f\"x{self.xLocation} y{self.yLocation} | distanceToBeacon{self.distanceToBeacon}\""
   ]
  },
  {
   "cell_type": "code",
   "execution_count": 213,
   "metadata": {},
   "outputs": [
    {
     "name": "stdout",
     "output_type": "stream",
     "text": [
      "x2 y18 | distanceToBeacon7\n",
      "x9 y16 | distanceToBeacon1\n",
      "x13 y2 | distanceToBeacon3\n",
      "x12 y14 | distanceToBeacon4\n",
      "x10 y20 | distanceToBeacon4\n",
      "x14 y17 | distanceToBeacon5\n",
      "x8 y7 | distanceToBeacon9\n",
      "x2 y0 | distanceToBeacon10\n",
      "x0 y11 | distanceToBeacon3\n",
      "x20 y14 | distanceToBeacon8\n",
      "x17 y20 | distanceToBeacon6\n",
      "x16 y7 | distanceToBeacon5\n",
      "x14 y3 | distanceToBeacon1\n",
      "x20 y1 | distanceToBeacon7\n"
     ]
    }
   ],
   "source": [
    "sensorInputStrings = input.splitlines()\n",
    "sensorInputStrings = [i.split(\":\") for i in sensorInputStrings]\n",
    "sensors: list[Sensor] = []\n",
    "for sensorInput in sensorInputStrings:\n",
    "    sensorLocationString = sensorInput[0].split()\n",
    "    sensorLocationX = int(sensorLocationString[2].replace(\"x\", \"\", 1).replace(\"=\", \"\", 1).replace(\",\", \"\", 1))\n",
    "    sensorLocationY = int(sensorLocationString[3].replace(\"y\", \"\", 1).replace(\"=\", \"\", 1).replace(\",\", \"\", 1))\n",
    "    \n",
    "    closestBeaconLocationString = sensorInput[1].split()\n",
    "    beaconLocationX = int(closestBeaconLocationString[4].replace(\"x\", \"\", 1).replace(\"=\", \"\", 1).replace(\",\", \"\", 1))\n",
    "    beaconLocationY = int(closestBeaconLocationString[5].replace(\"y\", \"\", 1).replace(\"=\", \"\", 1).replace(\",\", \"\", 1))\n",
    "\n",
    "    sensors.append(Sensor(sensorLocationX, sensorLocationY, beaconLocationX, beaconLocationY))\n",
    "for sensor in sensors:\n",
    "    print(str(sensor))"
   ]
  },
  {
   "attachments": {},
   "cell_type": "markdown",
   "metadata": {},
   "source": [
    "Make Map"
   ]
  },
  {
   "cell_type": "code",
   "execution_count": 215,
   "metadata": {},
   "outputs": [],
   "source": [
    "def displayChart():\n",
    "    global chart\n",
    "    global xOffset\n",
    "    global yOffset\n",
    "    outputStr = \"\"\n",
    "    for y, row in enumerate(chart):\n",
    "        # outputStr += str(y-yOffset)\n",
    "        for x, point in enumerate(row):\n",
    "            if point == 1:\n",
    "                outputStr += \"S\"\n",
    "            elif point == 2:\n",
    "                outputStr += \"B\"\n",
    "            elif point == 3:\n",
    "                outputStr += \"#\"\n",
    "            elif point == 0:\n",
    "                if y == yOffset:\n",
    "                    outputStr += \"-\"\n",
    "                elif x == xOffset:\n",
    "                    outputStr += \"|\"\n",
    "                elif y < yOffset or x < xOffset:\n",
    "                    outputStr += \".\"\n",
    "                else:\n",
    "                    outputStr += \".\"\n",
    "            else:\n",
    "                outputStr += \"?\"\n",
    "        if y == 10+yOffset or y == 2000000+yOffset:\n",
    "            outputStr += \"!!!!\"\n",
    "        outputStr += \"\\n\"\n",
    "    print(outputStr)"
   ]
  },
  {
   "cell_type": "code",
   "execution_count": 216,
   "metadata": {},
   "outputs": [
    {
     "name": "stdout",
     "output_type": "stream",
     "text": [
      "........|.#..........................\n",
      "........|###.........................\n",
      "........#####........................\n",
      ".......#######.......................\n",
      "......#########.............#........\n",
      ".....###########...........###.......\n",
      "....#############.........#####......\n",
      "...###############.......#######.....\n",
      "..#################.....#########....\n",
      ".###################.#.###########...\n",
      "##########S########################--\n",
      ".###########################S#######.\n",
      "..###################S#############..\n",
      "...###################SB##########...\n",
      "....#############################....\n",
      ".....###########################.....\n",
      "......#########################......\n",
      ".......#########S#######S#####.......\n",
      "........#######################......\n",
      ".......#########################.....\n",
      "......####B######################....!!!!\n",
      ".....###S#############.###########...\n",
      "......#############################..\n",
      ".......#############################.\n",
      ".......#############S#######S########\n",
      "......B#############################.\n",
      ".....############SB################..\n",
      "....##################S##########B...\n",
      "...#######S######################....\n",
      "....############################.....\n",
      ".....#############S######S######.....\n",
      "......#########################......\n",
      ".......#######..#############B.......\n",
      "........#####....###..#######........\n",
      "........|###......#....#####.........\n",
      "........|.#.............###..........\n",
      "........|................#...........\n",
      "\n"
     ]
    }
   ],
   "source": [
    "displayChart()"
   ]
  },
  {
   "cell_type": "code",
   "execution_count": 214,
   "metadata": {},
   "outputs": [
    {
     "data": {
      "text/plain": [
       "26"
      ]
     },
     "execution_count": 214,
     "metadata": {},
     "output_type": "execute_result"
    }
   ],
   "source": [
    "# keep track of how far below zero any coordinates have gone\n",
    "xOffset = 0\n",
    "yOffset = 0\n",
    "chart: list[list[int]] = [[0]]\n",
    "def addPointToChart(xCoord:int, yCoord:int, typeOfPointToAdd: int):\n",
    "    global chart\n",
    "    global xOffset\n",
    "    global yOffset\n",
    "    #adjust insertion point to account for negative coordinates #TODO be more clear\n",
    "    x = xCoord + xOffset\n",
    "    y = yCoord + yOffset\n",
    "\n",
    "    #grow chart if x is higher than any other x\n",
    "    while len(chart[0]) <= x:\n",
    "        for row in chart:\n",
    "            row.append(0)\n",
    "    #grow chart backwards if x is lower than any other x\n",
    "    while x < 0:\n",
    "        for row in chart:\n",
    "            row.insert(0, 0)\n",
    "        x += 1\n",
    "        xOffset +=1\n",
    "\n",
    "    #grow chart if y is greater than any other y\n",
    "    while len(chart) <= y:\n",
    "        newRow: list[int] = []\n",
    "        while len(newRow) < len(chart[0]):\n",
    "            newRow.append(0)\n",
    "        chart.append(newRow)\n",
    "    #grow chart backwards if y is lesser than any other y\n",
    "    while y < 0:\n",
    "        newRow: list[int] = []\n",
    "        while len(newRow) < len(chart[0]):\n",
    "            newRow.append(0)\n",
    "        chart.insert(0, newRow)\n",
    "        y += 1\n",
    "        yOffset +=1\n",
    "\n",
    "    row = chart[y]\n",
    "    row[x] = typeOfPointToAdd\n",
    "\n",
    "    # for row in chart:\n",
    "    #     print(row)\n",
    "    # print(f\"xOffset: {xOffset}\")\n",
    "    # print(f\"yOffset: {yOffset}\")\n",
    "    # print(\"---------------\")\n",
    "\n",
    "for sensor in sensors:\n",
    "    # if sensor.xLocation == 8 and sensor.yLocation == 7:\n",
    "    if True:\n",
    "        verticalRange = range(sensor.yLocation-sensor.distanceToBeacon, sensor.yLocation+sensor.distanceToBeacon+1)\n",
    "        for y in verticalRange:\n",
    "            horizontalDiminish = abs(y - sensor.yLocation)\n",
    "            horizontalRange = range(sensor.xLocation-sensor.distanceToBeacon+horizontalDiminish, sensor.xLocation+sensor.distanceToBeacon-horizontalDiminish+1)\n",
    "            for x in horizontalRange:\n",
    "                addPointToChart(x, y, 3)\n",
    "for sensor in sensors:\n",
    "    addPointToChart(sensor.xLocation, sensor.yLocation, 1)\n",
    "    addPointToChart(sensor.closestBeaconX, sensor.closestBeaconY, 2)\n",
    "\n",
    "\n",
    "\n",
    "rowToCheck = 10\n",
    "spotThatCannotHaveABeacon = 0\n",
    "for point in chart[rowToCheck+yOffset]:\n",
    "    if point == 3:\n",
    "        spotThatCannotHaveABeacon+=1\n",
    "\n",
    "spotThatCannotHaveABeacon"
   ]
  }
 ],
 "metadata": {
  "kernelspec": {
   "display_name": "Python 3",
   "language": "python",
   "name": "python3"
  },
  "language_info": {
   "codemirror_mode": {
    "name": "ipython",
    "version": 3
   },
   "file_extension": ".py",
   "mimetype": "text/x-python",
   "name": "python",
   "nbconvert_exporter": "python",
   "pygments_lexer": "ipython3",
   "version": "3.10.5 (tags/v3.10.5:f377153, Jun  6 2022, 16:14:13) [MSC v.1929 64 bit (AMD64)]"
  },
  "orig_nbformat": 4,
  "vscode": {
   "interpreter": {
    "hash": "369f2c481f4da34e4445cda3fffd2e751bd1c4d706f27375911949ba6bb62e1c"
   }
  }
 },
 "nbformat": 4,
 "nbformat_minor": 2
}
